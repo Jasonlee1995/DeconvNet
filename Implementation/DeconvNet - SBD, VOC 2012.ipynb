{
 "cells": [
  {
   "cell_type": "markdown",
   "metadata": {},
   "source": [
    "# DeconvNet\n",
    "\n",
    "## 1. Environment Setup\n",
    "### 1.0. Check GPU"
   ]
  },
  {
   "cell_type": "code",
   "execution_count": 1,
   "metadata": {},
   "outputs": [
    {
     "name": "stdout",
     "output_type": "stream",
     "text": [
      "Fri Jan 29 12:42:14 2021       \r\n",
      "+-----------------------------------------------------------------------------+\r\n",
      "| NVIDIA-SMI 455.23.04    Driver Version: 455.23.04    CUDA Version: 11.1     |\r\n",
      "|-------------------------------+----------------------+----------------------+\r\n",
      "| GPU  Name        Persistence-M| Bus-Id        Disp.A | Volatile Uncorr. ECC |\r\n",
      "| Fan  Temp  Perf  Pwr:Usage/Cap|         Memory-Usage | GPU-Util  Compute M. |\r\n",
      "|                               |                      |               MIG M. |\r\n",
      "|===============================+======================+======================|\r\n",
      "|   0  GeForce RTX 3090    On   | 00000000:01:00.0 Off |                  N/A |\r\n",
      "|100%   91C    P2   168W / 370W |    624MiB / 24267MiB |      0%      Default |\r\n",
      "|                               |                      |                  N/A |\r\n",
      "+-------------------------------+----------------------+----------------------+\r\n",
      "|   1  GeForce RTX 3090    On   | 00000000:03:00.0 Off |                  N/A |\r\n",
      "| 80%   71C    P2   253W / 370W |   7219MiB / 24268MiB |     39%      Default |\r\n",
      "|                               |                      |                  N/A |\r\n",
      "+-------------------------------+----------------------+----------------------+\r\n",
      "                                                                               \r\n",
      "+-----------------------------------------------------------------------------+\r\n",
      "| Processes:                                                                  |\r\n",
      "|  GPU   GI   CI        PID   Type   Process name                  GPU Memory |\r\n",
      "|        ID   ID                                                   Usage      |\r\n",
      "|=============================================================================|\r\n",
      "+-----------------------------------------------------------------------------+\r\n"
     ]
    }
   ],
   "source": [
    "!nvidia-smi"
   ]
  },
  {
   "cell_type": "code",
   "execution_count": 2,
   "metadata": {},
   "outputs": [
    {
     "name": "stdout",
     "output_type": "stream",
     "text": [
      "nvcc: NVIDIA (R) Cuda compiler driver\r\n",
      "Copyright (c) 2005-2020 NVIDIA Corporation\r\n",
      "Built on Wed_Jul_22_19:09:09_PDT_2020\r\n",
      "Cuda compilation tools, release 11.0, V11.0.221\r\n",
      "Build cuda_11.0_bu.TC445_37.28845127_0\r\n"
     ]
    }
   ],
   "source": [
    "!nvcc --version"
   ]
  },
  {
   "cell_type": "code",
   "execution_count": null,
   "metadata": {},
   "outputs": [],
   "source": []
  },
  {
   "cell_type": "markdown",
   "metadata": {},
   "source": [
    "### 1.1. Install Pytorch and torchvision"
   ]
  },
  {
   "cell_type": "code",
   "execution_count": 3,
   "metadata": {},
   "outputs": [
    {
     "name": "stdout",
     "output_type": "stream",
     "text": [
      "Looking in links: https://download.pytorch.org/whl/torch_stable.html\n",
      "Requirement already satisfied: torch==1.7.1+cu110 in /usr/local/lib/python3.6/dist-packages (1.7.1+cu110)\n",
      "Requirement already satisfied: torchvision==0.8.2+cu110 in /usr/local/lib/python3.6/dist-packages (0.8.2+cu110)\n",
      "Requirement already satisfied: torchaudio===0.7.2 in /usr/local/lib/python3.6/dist-packages (0.7.2)\n",
      "Requirement already satisfied: numpy in /usr/local/lib/python3.6/dist-packages (from torch==1.7.1+cu110) (1.19.4)\n",
      "Requirement already satisfied: typing-extensions in /usr/local/lib/python3.6/dist-packages (from torch==1.7.1+cu110) (3.7.4.3)\n",
      "Requirement already satisfied: dataclasses; python_version < \"3.7\" in /usr/local/lib/python3.6/dist-packages (from torch==1.7.1+cu110) (0.8)\n",
      "Requirement already satisfied: pillow>=4.1.1 in /usr/local/lib/python3.6/dist-packages (from torchvision==0.8.2+cu110) (8.0.1)\n",
      "\u001b[33mWARNING: You are using pip version 20.2.4; however, version 21.0 is available.\n",
      "You should consider upgrading via the '/usr/bin/python3 -m pip install --upgrade pip' command.\u001b[0m\n"
     ]
    }
   ],
   "source": [
    "!pip install torch==1.7.1+cu110 torchvision==0.8.2+cu110 torchaudio===0.7.2 -f https://download.pytorch.org/whl/torch_stable.html"
   ]
  },
  {
   "cell_type": "code",
   "execution_count": null,
   "metadata": {},
   "outputs": [],
   "source": []
  },
  {
   "cell_type": "markdown",
   "metadata": {},
   "source": [
    "### 1.2. Import"
   ]
  },
  {
   "cell_type": "code",
   "execution_count": 4,
   "metadata": {},
   "outputs": [],
   "source": [
    "import augmentation, train\n",
    "\n",
    "import torch\n",
    "import torchvision\n",
    "\n",
    "import matplotlib.pyplot as plt\n",
    "\n",
    "# Ignore Warning\n",
    "import warnings\n",
    "warnings.filterwarnings(action='ignore')"
   ]
  },
  {
   "cell_type": "code",
   "execution_count": null,
   "metadata": {},
   "outputs": [],
   "source": []
  },
  {
   "cell_type": "markdown",
   "metadata": {},
   "source": [
    "## 2. Data Preprocessing"
   ]
  },
  {
   "cell_type": "code",
   "execution_count": 5,
   "metadata": {},
   "outputs": [],
   "source": [
    "train_batch_size = 8\n",
    "test_batch_size = 1"
   ]
  },
  {
   "cell_type": "code",
   "execution_count": 6,
   "metadata": {
    "scrolled": true
   },
   "outputs": [
    {
     "name": "stdout",
     "output_type": "stream",
     "text": [
      "Using downloaded and verified file: ./VOCtrainval_11-May-2012.tar\n"
     ]
    }
   ],
   "source": [
    "train_tf = augmentation.Mask_Aug(transforms=[augmentation.ToTensor(), augmentation.PILToTensor(), \n",
    "                                             augmentation.Resize((256, 256)), augmentation.RandomCrop((224, 224)), \n",
    "                                             augmentation.RandomHorizontalFlip(),\n",
    "                                             augmentation.Normalize(mean=[0.485, 0.456, 0.406], std=[0.229, 0.224, 0.225])])\n",
    "\n",
    "val_tf = augmentation.Mask_Aug(transforms=[augmentation.ToTensor(), augmentation.PILToTensor(), \n",
    "                                           augmentation.Resize((256, 256)), \n",
    "                                           augmentation.Normalize(mean=[0.485, 0.456, 0.406], std=[0.229, 0.224, 0.225])])\n",
    "\n",
    "train_dataset = torchvision.datasets.SBDataset(root='./', image_set='train_noval', mode='segmentation', download=False, transforms=train_tf)\n",
    "train_loader = torch.utils.data.DataLoader(train_dataset, batch_size=train_batch_size, shuffle=True, num_workers=4, pin_memory=True)\n",
    "\n",
    "val_dataset = torchvision.datasets.VOCSegmentation(root='./', year='2012', image_set='val', download=True, transforms=val_tf)\n",
    "val_loader = torch.utils.data.DataLoader(val_dataset, batch_size=test_batch_size, shuffle=False, num_workers=4, pin_memory=True)"
   ]
  },
  {
   "cell_type": "code",
   "execution_count": null,
   "metadata": {},
   "outputs": [],
   "source": []
  },
  {
   "cell_type": "markdown",
   "metadata": {},
   "source": [
    "## 3. Train Model"
   ]
  },
  {
   "cell_type": "code",
   "execution_count": 7,
   "metadata": {},
   "outputs": [],
   "source": [
    "num_classes = 21\n",
    "ignore_index = 255\n",
    "\n",
    "gpu_id = 0\n",
    "print_freq = 200\n",
    "epoch_print = 5\n",
    "\n",
    "save = False\n",
    "epochs = 200\n",
    "\n",
    "lr = 0.01\n",
    "momentum = 0.9\n",
    "weight_decay = 0.0005"
   ]
  },
  {
   "cell_type": "code",
   "execution_count": 8,
   "metadata": {
    "scrolled": true
   },
   "outputs": [],
   "source": [
    "deconvnet = train.DeconvNet(num_classes=num_classes, ignore_index=ignore_index, \n",
    "                            gpu_id=gpu_id, print_freq=print_freq, epoch_print=epoch_print)"
   ]
  },
  {
   "cell_type": "code",
   "execution_count": 9,
   "metadata": {
    "scrolled": true
   },
   "outputs": [
    {
     "name": "stdout",
     "output_type": "stream",
     "text": [
      "Epoch 1 Started...\n",
      "\n",
      "*********************************** Best mIoU Updated ***********************************\n",
      "Iteration : 200 - Train Loss : 1.666407, Test Loss : 1.431723, Test mIoU : 3.2983\n",
      "\n",
      "\n",
      "*********************************** Best mIoU Updated ***********************************\n",
      "Iteration : 400 - Train Loss : 1.559675, Test Loss : 1.257737, Test mIoU : 4.8645\n",
      "\n",
      "\n",
      "*********************************** Best mIoU Updated ***********************************\n",
      "Iteration : 600 - Train Loss : 2.041708, Test Loss : 1.554759, Test mIoU : 5.1677\n",
      "\n",
      "Epoch 6 Started...\n",
      "\n",
      "*********************************** Best mIoU Updated ***********************************\n",
      "Iteration : 200 - Train Loss : 0.652917, Test Loss : 0.753083, Test mIoU : 14.3536\n",
      "\n",
      "Iteration : 400 - Train Loss : 0.641112, Test Loss : 0.862484, Test mIoU : 11.2000\n",
      "\n",
      "*********************************** Best mIoU Updated ***********************************\n",
      "Iteration : 600 - Train Loss : 1.021087, Test Loss : 0.840619, Test mIoU : 15.6941\n",
      "\n",
      "Epoch 11 Started...\n",
      "\n",
      "*********************************** Best mIoU Updated ***********************************\n",
      "Iteration : 200 - Train Loss : 0.715182, Test Loss : 1.360070, Test mIoU : 17.1668\n",
      "\n",
      "\n",
      "*********************************** Best mIoU Updated ***********************************\n",
      "Iteration : 400 - Train Loss : 0.727022, Test Loss : 0.781628, Test mIoU : 17.6240\n",
      "\n",
      "\n",
      "*********************************** Best mIoU Updated ***********************************\n",
      "Iteration : 600 - Train Loss : 1.022120, Test Loss : 0.797186, Test mIoU : 21.1702\n",
      "\n",
      "Epoch 16 Started...\n",
      "\n",
      "*********************************** Best mIoU Updated ***********************************\n",
      "Iteration : 200 - Train Loss : 0.820731, Test Loss : 0.957351, Test mIoU : 25.6976\n",
      "\n",
      "\n",
      "*********************************** Best mIoU Updated ***********************************\n",
      "Iteration : 400 - Train Loss : 0.639563, Test Loss : 0.755561, Test mIoU : 27.5016\n",
      "\n",
      "Iteration : 600 - Train Loss : 0.496399, Test Loss : 0.770592, Test mIoU : 27.3844\n",
      "Epoch 21 Started...\n",
      "Iteration : 200 - Train Loss : 0.358385, Test Loss : 0.972402, Test mIoU : 23.3423\n",
      "Iteration : 400 - Train Loss : 0.634860, Test Loss : 0.831224, Test mIoU : 26.7105\n",
      "Iteration : 600 - Train Loss : 0.603076, Test Loss : 0.887051, Test mIoU : 24.8500\n",
      "Epoch 26 Started...\n",
      "Iteration : 200 - Train Loss : 0.659793, Test Loss : 0.947805, Test mIoU : 25.4389\n",
      "Iteration : 400 - Train Loss : 0.985634, Test Loss : 0.876225, Test mIoU : 27.0012\n",
      "Iteration : 600 - Train Loss : 0.641803, Test Loss : 0.966230, Test mIoU : 25.5012\n",
      "Epoch 31 Started...\n",
      "\n",
      "*********************************** Best mIoU Updated ***********************************\n",
      "Iteration : 200 - Train Loss : 0.839221, Test Loss : 0.811469, Test mIoU : 27.6091\n",
      "\n",
      "\n",
      "*********************************** Best mIoU Updated ***********************************\n",
      "Iteration : 400 - Train Loss : 0.514124, Test Loss : 0.985678, Test mIoU : 28.0222\n",
      "\n",
      "Iteration : 600 - Train Loss : 0.691735, Test Loss : 1.125740, Test mIoU : 25.1258\n",
      "Epoch 36 Started...\n",
      "Iteration : 200 - Train Loss : 0.696650, Test Loss : 0.929096, Test mIoU : 25.0216\n",
      "Iteration : 400 - Train Loss : 0.745912, Test Loss : 1.211254, Test mIoU : 23.5425\n",
      "Iteration : 600 - Train Loss : 0.484100, Test Loss : 0.910639, Test mIoU : 26.3299\n",
      "Epoch 41 Started...\n",
      "Iteration : 200 - Train Loss : 0.572585, Test Loss : 0.913586, Test mIoU : 23.0968\n",
      "Iteration : 400 - Train Loss : 0.561708, Test Loss : 0.992159, Test mIoU : 26.0147\n",
      "Iteration : 600 - Train Loss : 0.676176, Test Loss : 1.183430, Test mIoU : 21.9973\n",
      "Epoch 46 Started...\n",
      "Iteration : 200 - Train Loss : 0.671028, Test Loss : 1.093371, Test mIoU : 25.7578\n",
      "Iteration : 400 - Train Loss : 0.708139, Test Loss : 1.069961, Test mIoU : 23.5193\n",
      "\n",
      "*********************************** Best mIoU Updated ***********************************\n",
      "Iteration : 600 - Train Loss : 0.725926, Test Loss : 0.950494, Test mIoU : 29.7320\n",
      "\n",
      "Epoch 51 Started...\n",
      "Iteration : 200 - Train Loss : 0.576897, Test Loss : 1.164448, Test mIoU : 23.7513\n",
      "Iteration : 400 - Train Loss : 0.555833, Test Loss : 0.878609, Test mIoU : 25.9940\n",
      "Iteration : 600 - Train Loss : 0.676494, Test Loss : 0.931194, Test mIoU : 25.9209\n",
      "Epoch 56 Started...\n",
      "Iteration : 200 - Train Loss : 0.664704, Test Loss : 0.976760, Test mIoU : 26.1266\n",
      "Iteration : 400 - Train Loss : 0.425279, Test Loss : 1.176544, Test mIoU : 24.3785\n",
      "Iteration : 600 - Train Loss : 0.731847, Test Loss : 1.489578, Test mIoU : 21.7706\n",
      "Epoch 61 Started...\n",
      "\n",
      "*********************************** Best mIoU Updated ***********************************\n",
      "Iteration : 200 - Train Loss : 0.617315, Test Loss : 0.954470, Test mIoU : 30.2666\n",
      "\n",
      "Iteration : 400 - Train Loss : 0.847601, Test Loss : 0.964115, Test mIoU : 23.3158\n",
      "\n",
      "*********************************** Best mIoU Updated ***********************************\n",
      "Iteration : 600 - Train Loss : 0.843724, Test Loss : 1.071096, Test mIoU : 30.5648\n",
      "\n",
      "Epoch 66 Started...\n",
      "\n",
      "*********************************** Best mIoU Updated ***********************************\n",
      "Iteration : 200 - Train Loss : 0.659034, Test Loss : 0.847627, Test mIoU : 30.8157\n",
      "\n",
      "\n",
      "*********************************** Best mIoU Updated ***********************************\n",
      "Iteration : 400 - Train Loss : 0.562118, Test Loss : 0.818334, Test mIoU : 31.3511\n",
      "\n",
      "Iteration : 600 - Train Loss : 0.895391, Test Loss : 1.021990, Test mIoU : 27.3112\n",
      "Epoch 71 Started...\n",
      "Iteration : 200 - Train Loss : 0.399987, Test Loss : 1.199535, Test mIoU : 24.2464\n",
      "Iteration : 400 - Train Loss : 0.324071, Test Loss : 1.009398, Test mIoU : 28.7993\n",
      "Iteration : 600 - Train Loss : 0.618892, Test Loss : 1.270134, Test mIoU : 25.1123\n",
      "Epoch 76 Started...\n",
      "\n",
      "*********************************** Best mIoU Updated ***********************************\n",
      "Iteration : 200 - Train Loss : 0.555656, Test Loss : 0.858653, Test mIoU : 31.4179\n",
      "\n",
      "\n",
      "*********************************** Best mIoU Updated ***********************************\n",
      "Iteration : 400 - Train Loss : 0.434866, Test Loss : 0.857543, Test mIoU : 32.5662\n",
      "\n",
      "Iteration : 600 - Train Loss : 0.632763, Test Loss : 1.097043, Test mIoU : 27.5700\n",
      "Epoch 81 Started...\n",
      "Iteration : 200 - Train Loss : 0.809428, Test Loss : 0.896312, Test mIoU : 28.7451\n",
      "Iteration : 400 - Train Loss : 0.378659, Test Loss : 1.118453, Test mIoU : 29.3031\n",
      "Iteration : 600 - Train Loss : 1.224932, Test Loss : 1.186044, Test mIoU : 24.0008\n",
      "Epoch 86 Started...\n",
      "Iteration : 200 - Train Loss : 0.750582, Test Loss : 1.386153, Test mIoU : 22.6692\n",
      "Iteration : 400 - Train Loss : 0.361065, Test Loss : 1.101880, Test mIoU : 26.7815\n",
      "Iteration : 600 - Train Loss : 0.584902, Test Loss : 1.145177, Test mIoU : 24.4261\n",
      "Epoch 91 Started...\n",
      "Iteration : 200 - Train Loss : 0.482256, Test Loss : 0.967178, Test mIoU : 27.5854\n",
      "Iteration : 400 - Train Loss : 0.715999, Test Loss : 0.767465, Test mIoU : 31.4539\n",
      "Iteration : 600 - Train Loss : 0.399760, Test Loss : 0.803612, Test mIoU : 32.1075\n",
      "Epoch 96 Started...\n",
      "Iteration : 200 - Train Loss : 0.375810, Test Loss : 0.904613, Test mIoU : 31.6242\n",
      "Iteration : 400 - Train Loss : 0.416745, Test Loss : 1.153450, Test mIoU : 25.7047\n",
      "Iteration : 600 - Train Loss : 0.523428, Test Loss : 1.038239, Test mIoU : 29.9893\n",
      "Epoch 101 Started...\n",
      "Iteration : 200 - Train Loss : 0.683198, Test Loss : 0.998095, Test mIoU : 27.8278\n",
      "Iteration : 400 - Train Loss : 0.448954, Test Loss : 0.823393, Test mIoU : 29.4848\n",
      "Iteration : 600 - Train Loss : 0.491543, Test Loss : 1.246622, Test mIoU : 23.5986\n",
      "Epoch 106 Started...\n",
      "Iteration : 200 - Train Loss : 0.416702, Test Loss : 0.933650, Test mIoU : 29.5536\n",
      "\n",
      "*********************************** Best mIoU Updated ***********************************\n",
      "Iteration : 400 - Train Loss : 0.393033, Test Loss : 0.709319, Test mIoU : 33.4793\n",
      "\n",
      "Iteration : 600 - Train Loss : 0.760686, Test Loss : 1.038351, Test mIoU : 28.1814\n",
      "Epoch 111 Started...\n",
      "Iteration : 200 - Train Loss : 0.658125, Test Loss : 0.910159, Test mIoU : 28.9053\n",
      "Iteration : 400 - Train Loss : 0.859385, Test Loss : 1.001994, Test mIoU : 24.9387\n",
      "Iteration : 600 - Train Loss : 0.633182, Test Loss : 0.770512, Test mIoU : 32.5080\n",
      "Epoch 116 Started...\n",
      "Iteration : 200 - Train Loss : 0.616254, Test Loss : 0.894880, Test mIoU : 30.5738\n",
      "Iteration : 400 - Train Loss : 0.538266, Test Loss : 1.344369, Test mIoU : 21.9889\n"
     ]
    },
    {
     "name": "stdout",
     "output_type": "stream",
     "text": [
      "Iteration : 600 - Train Loss : 0.811051, Test Loss : 1.187232, Test mIoU : 21.7514\n",
      "Epoch 121 Started...\n",
      "Iteration : 200 - Train Loss : 0.557161, Test Loss : 0.980707, Test mIoU : 27.2134\n",
      "Iteration : 400 - Train Loss : 0.562561, Test Loss : 0.843828, Test mIoU : 28.0381\n",
      "Iteration : 600 - Train Loss : 1.066955, Test Loss : 0.912547, Test mIoU : 28.4681\n",
      "Epoch 126 Started...\n",
      "Iteration : 200 - Train Loss : 0.489362, Test Loss : 0.892418, Test mIoU : 28.7925\n",
      "Iteration : 400 - Train Loss : 0.779502, Test Loss : 0.841648, Test mIoU : 27.1586\n",
      "Iteration : 600 - Train Loss : 1.094690, Test Loss : 1.117492, Test mIoU : 26.3148\n",
      "Epoch 131 Started...\n",
      "Iteration : 200 - Train Loss : 0.452097, Test Loss : 0.899132, Test mIoU : 29.3850\n",
      "Iteration : 400 - Train Loss : 0.590504, Test Loss : 0.862546, Test mIoU : 30.2810\n",
      "Iteration : 600 - Train Loss : 0.737319, Test Loss : 0.924899, Test mIoU : 28.0456\n",
      "Epoch 136 Started...\n",
      "Iteration : 200 - Train Loss : 0.697376, Test Loss : 1.166751, Test mIoU : 27.9670\n",
      "Iteration : 400 - Train Loss : 0.442568, Test Loss : 0.869230, Test mIoU : 30.6654\n",
      "Iteration : 600 - Train Loss : 1.011392, Test Loss : 0.768309, Test mIoU : 32.3967\n",
      "Epoch 141 Started...\n",
      "Iteration : 200 - Train Loss : 0.654917, Test Loss : 0.984131, Test mIoU : 26.8876\n",
      "Iteration : 400 - Train Loss : 0.520046, Test Loss : 0.810739, Test mIoU : 31.4793\n",
      "Iteration : 600 - Train Loss : 0.427521, Test Loss : 0.834200, Test mIoU : 31.2315\n",
      "Epoch 146 Started...\n",
      "\n",
      "*********************************** Best mIoU Updated ***********************************\n",
      "Iteration : 200 - Train Loss : 0.393636, Test Loss : 0.732938, Test mIoU : 33.8477\n",
      "\n",
      "Iteration : 400 - Train Loss : 0.521241, Test Loss : 0.736567, Test mIoU : 32.5504\n",
      "Iteration : 600 - Train Loss : 0.216882, Test Loss : 1.182855, Test mIoU : 24.5669\n",
      "Epoch 151 Started...\n",
      "Iteration : 200 - Train Loss : 0.494442, Test Loss : 0.827472, Test mIoU : 30.6647\n",
      "Iteration : 400 - Train Loss : 0.477856, Test Loss : 0.846653, Test mIoU : 31.3754\n",
      "Iteration : 600 - Train Loss : 0.408246, Test Loss : 0.822138, Test mIoU : 30.3633\n",
      "Epoch 156 Started...\n",
      "Iteration : 200 - Train Loss : 0.359890, Test Loss : 0.787225, Test mIoU : 30.2068\n",
      "Iteration : 400 - Train Loss : 0.532502, Test Loss : 0.964997, Test mIoU : 26.0263\n",
      "Iteration : 600 - Train Loss : 0.506542, Test Loss : 1.079886, Test mIoU : 25.8377\n",
      "Epoch 161 Started...\n",
      "Iteration : 200 - Train Loss : 0.386464, Test Loss : 0.865387, Test mIoU : 29.7245\n",
      "Iteration : 400 - Train Loss : 0.527124, Test Loss : 0.982226, Test mIoU : 26.4915\n",
      "Iteration : 600 - Train Loss : 0.809322, Test Loss : 1.046256, Test mIoU : 24.2090\n",
      "Epoch 166 Started...\n",
      "Iteration : 200 - Train Loss : 0.480740, Test Loss : 1.159305, Test mIoU : 27.5380\n",
      "Iteration : 400 - Train Loss : 0.736793, Test Loss : 0.951976, Test mIoU : 29.6099\n",
      "Iteration : 600 - Train Loss : 0.543204, Test Loss : 1.016638, Test mIoU : 28.9630\n",
      "Epoch 171 Started...\n",
      "Iteration : 200 - Train Loss : 0.730411, Test Loss : 0.835625, Test mIoU : 29.7396\n",
      "Iteration : 400 - Train Loss : 0.514409, Test Loss : 0.830621, Test mIoU : 31.5041\n",
      "Iteration : 600 - Train Loss : 0.268282, Test Loss : 0.806294, Test mIoU : 31.3538\n",
      "Epoch 176 Started...\n",
      "Iteration : 200 - Train Loss : 0.324121, Test Loss : 0.882622, Test mIoU : 30.6265\n",
      "Iteration : 400 - Train Loss : 0.557574, Test Loss : 0.869214, Test mIoU : 30.2221\n",
      "Iteration : 600 - Train Loss : 0.691601, Test Loss : 0.977532, Test mIoU : 27.7728\n",
      "Epoch 181 Started...\n",
      "Iteration : 200 - Train Loss : 0.349339, Test Loss : 0.874102, Test mIoU : 30.8454\n",
      "Iteration : 400 - Train Loss : 0.497076, Test Loss : 1.042689, Test mIoU : 27.4521\n",
      "Iteration : 600 - Train Loss : 0.771056, Test Loss : 1.023779, Test mIoU : 27.7864\n",
      "Epoch 186 Started...\n",
      "Iteration : 200 - Train Loss : 0.553503, Test Loss : 1.059802, Test mIoU : 27.0855\n",
      "Iteration : 400 - Train Loss : 0.570411, Test Loss : 0.855484, Test mIoU : 29.7035\n",
      "Iteration : 600 - Train Loss : 0.473069, Test Loss : 1.007697, Test mIoU : 27.8006\n",
      "Epoch 191 Started...\n",
      "Iteration : 200 - Train Loss : 0.477025, Test Loss : 0.977825, Test mIoU : 30.6054\n",
      "Iteration : 400 - Train Loss : 0.664495, Test Loss : 0.872411, Test mIoU : 27.5785\n",
      "Iteration : 600 - Train Loss : 0.499295, Test Loss : 1.002766, Test mIoU : 25.1273\n",
      "Epoch 196 Started...\n",
      "Iteration : 200 - Train Loss : 0.833289, Test Loss : 1.035166, Test mIoU : 26.2147\n",
      "Iteration : 400 - Train Loss : 0.324921, Test Loss : 0.876154, Test mIoU : 27.7983\n",
      "Iteration : 600 - Train Loss : 0.824216, Test Loss : 0.998591, Test mIoU : 26.3382\n"
     ]
    }
   ],
   "source": [
    "deconvnet.train(train_loader, val_loader, save=save, epochs=epochs, lr=lr, momentum=momentum, weight_decay=weight_decay)"
   ]
  }
 ],
 "metadata": {
  "kernelspec": {
   "display_name": "Python 3",
   "language": "python",
   "name": "python3"
  },
  "language_info": {
   "codemirror_mode": {
    "name": "ipython",
    "version": 3
   },
   "file_extension": ".py",
   "mimetype": "text/x-python",
   "name": "python",
   "nbconvert_exporter": "python",
   "pygments_lexer": "ipython3",
   "version": "3.6.9"
  }
 },
 "nbformat": 4,
 "nbformat_minor": 2
}
